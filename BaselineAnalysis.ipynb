{
 "cells": [
  {
   "cell_type": "markdown",
   "id": "338bb421",
   "metadata": {},
   "source": [
    "# FSD Baseline\n",
    "\n",
    "The goal is to observe the evolution of the electronics basline when no biased volatge is applied to the SiPMs.\n"
   ]
  },
  {
   "cell_type": "markdown",
   "id": "bdb84fd9",
   "metadata": {},
   "source": []
  }
 ],
 "metadata": {
  "language_info": {
   "name": "python"
  }
 },
 "nbformat": 4,
 "nbformat_minor": 5
}
